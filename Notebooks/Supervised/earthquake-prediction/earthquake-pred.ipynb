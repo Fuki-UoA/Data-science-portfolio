{
 "metadata": {
  "orig_nbformat": 2,
  "kernelspec": {
   "name": "python3",
   "display_name": "Python 3",
   "language": "python"
  }
 },
 "nbformat": 4,
 "nbformat_minor": 2,
 "cells": [
  {
   "source": [
    "# Problem\n",
    "It is said that the expected frequency of earthquakes decreases multiplicatively with their magnitude. The formula is $log_{10}N = a-bM$ where $N$ is the expected number of earthquakes of magnitude $M$. Since the response variable is count, Poisson regression will be used to tackle this problem.\n",
    "\n",
    "We can see that $E[Y|X] = e^{\\beta_0 + \\beta_1 x}$\n"
   ],
   "cell_type": "markdown",
   "metadata": {}
  },
  {
   "cell_type": "code",
   "execution_count": 1,
   "metadata": {},
   "outputs": [],
   "source": [
    "import os\n",
    "import pandas as pd\n",
    "import numpy as np\n",
    "import matplotlib.pyplot as plt\n",
    "import statsmodels.api as sm\n",
    "import statsmodels.formula.api as smf\n",
    "import math"
   ]
  },
  {
   "cell_type": "code",
   "execution_count": 2,
   "metadata": {},
   "outputs": [],
   "source": [
    "def fetch_dataset():\n",
    "    return pd.read_csv(os.path.join('dataset', \n",
    "    'EarthquakeMagnitudes.txt'), delimiter=' ')"
   ]
  },
  {
   "cell_type": "code",
   "execution_count": 3,
   "metadata": {},
   "outputs": [
    {
     "output_type": "execute_result",
     "data": {
      "text/plain": [
       "  Locn  Magnitude  Freq\n",
       "0   SC       2.75  9471\n",
       "1   SC       3.25  2784\n",
       "2   SC       3.75   912\n",
       "3   SC       4.25   285\n",
       "4   SC       4.75    90"
      ],
      "text/html": "<div>\n<style scoped>\n    .dataframe tbody tr th:only-of-type {\n        vertical-align: middle;\n    }\n\n    .dataframe tbody tr th {\n        vertical-align: top;\n    }\n\n    .dataframe thead th {\n        text-align: right;\n    }\n</style>\n<table border=\"1\" class=\"dataframe\">\n  <thead>\n    <tr style=\"text-align: right;\">\n      <th></th>\n      <th>Locn</th>\n      <th>Magnitude</th>\n      <th>Freq</th>\n    </tr>\n  </thead>\n  <tbody>\n    <tr>\n      <th>0</th>\n      <td>SC</td>\n      <td>2.75</td>\n      <td>9471</td>\n    </tr>\n    <tr>\n      <th>1</th>\n      <td>SC</td>\n      <td>3.25</td>\n      <td>2784</td>\n    </tr>\n    <tr>\n      <th>2</th>\n      <td>SC</td>\n      <td>3.75</td>\n      <td>912</td>\n    </tr>\n    <tr>\n      <th>3</th>\n      <td>SC</td>\n      <td>4.25</td>\n      <td>285</td>\n    </tr>\n    <tr>\n      <th>4</th>\n      <td>SC</td>\n      <td>4.75</td>\n      <td>90</td>\n    </tr>\n  </tbody>\n</table>\n</div>"
     },
     "metadata": {},
     "execution_count": 3
    }
   ],
   "source": [
    "df = fetch_dataset()\n",
    "df.head()"
   ]
  },
  {
   "source": [
    "## Explanatory Analysis"
   ],
   "cell_type": "markdown",
   "metadata": {}
  },
  {
   "cell_type": "code",
   "execution_count": 4,
   "metadata": {},
   "outputs": [
    {
     "output_type": "display_data",
     "data": {
      "text/plain": "<Figure size 432x288 with 1 Axes>",
      "image/png": "[encoded data removed]"
     },
     "metadata": {
      "needs_background": "light"
     }
    }
   ],
   "source": [
    "# Make sure X and y are of dataframe, not series\n",
    "X, y = df[['Magnitude', 'Locn']], df['Freq']\n",
    "# mapping colours to each category.\n",
    "colours = {'WA': 'red', 'SC': 'blue'}\n",
    "plt.scatter(X[['Magnitude']], y, c=np.array(df['Locn'].map(colours)))\n",
    "plt.show()"
   ]
  },
  {
   "source": [
    "The number of earthquakes seems to decrease multiplicatively. It seems to be higher at location SC compared to WA."
   ],
   "cell_type": "markdown",
   "metadata": {}
  },
  {
   "source": [
    "## Fit a descritive model"
   ],
   "cell_type": "markdown",
   "metadata": {}
  },
  {
   "cell_type": "code",
   "execution_count": 5,
   "metadata": {},
   "outputs": [
    {
     "output_type": "execute_result",
     "data": {
      "text/plain": [
       "<class 'statsmodels.iolib.summary.Summary'>\n",
       "\"\"\"\n",
       "                 Generalized Linear Model Regression Results                  \n",
       "==============================================================================\n",
       "Dep. Variable:                   Freq   No. Observations:                   22\n",
       "Model:                            GLM   Df Residuals:                       18\n",
       "Model Family:                 Poisson   Df Model:                            3\n",
       "Link Function:                    log   Scale:                          1.0000\n",
       "Method:                          IRLS   Log-Likelihood:                -60.207\n",
       "Date:                Thu, 13 May 2021   Deviance:                       17.980\n",
       "Time:                        17:01:12   Pearson chi2:                     44.9\n",
       "No. Iterations:                     9                                         \n",
       "Covariance Type:            nonrobust                                         \n",
       "===========================================================================================\n",
       "                              coef    std err          z      P>|z|      [0.025      0.975]\n",
       "-------------------------------------------------------------------------------------------\n",
       "Intercept                  15.5985      0.064    243.975      0.000      15.473      15.724\n",
       "C(Locn)[T.WA]               0.5561      0.152      3.667      0.000       0.259       0.853\n",
       "Magnitude                  -2.3461      0.021   -110.126      0.000      -2.388      -2.304\n",
       "Magnitude:C(Locn)[T.WA]    -0.5632      0.052    -10.895      0.000      -0.665      -0.462\n",
       "===========================================================================================\n",
       "\"\"\""
      ],
      "text/html": "<table class=\"simpletable\">\n<caption>Generalized Linear Model Regression Results</caption>\n<tr>\n  <th>Dep. Variable:</th>         <td>Freq</td>       <th>  No. Observations:  </th>  <td>    22</td> \n</tr>\n<tr>\n  <th>Model:</th>                  <td>GLM</td>       <th>  Df Residuals:      </th>  <td>    18</td> \n</tr>\n<tr>\n  <th>Model Family:</th>         <td>Poisson</td>     <th>  Df Model:          </th>  <td>     3</td> \n</tr>\n<tr>\n  <th>Link Function:</th>          <td>log</td>       <th>  Scale:             </th> <td>  1.0000</td>\n</tr>\n<tr>\n  <th>Method:</th>                <td>IRLS</td>       <th>  Log-Likelihood:    </th> <td> -60.207</td>\n</tr>\n<tr>\n  <th>Date:</th>            <td>Thu, 13 May 2021</td> <th>  Deviance:          </th> <td>  17.980</td>\n</tr>\n<tr>\n  <th>Time:</th>                <td>17:01:12</td>     <th>  Pearson chi2:      </th>  <td>  44.9</td> \n</tr>\n<tr>\n  <th>No. Iterations:</th>          <td>9</td>        <th>                     </th>     <td> </td>   \n</tr>\n<tr>\n  <th>Covariance Type:</th>     <td>nonrobust</td>    <th>                     </th>     <td> </td>   \n</tr>\n</table>\n<table class=\"simpletable\">\n<tr>\n             <td></td>                <th>coef</th>     <th>std err</th>      <th>z</th>      <th>P>|z|</th>  <th>[0.025</th>    <th>0.975]</th>  \n</tr>\n<tr>\n  <th>Intercept</th>               <td>   15.5985</td> <td>    0.064</td> <td>  243.975</td> <td> 0.000</td> <td>   15.473</td> <td>   15.724</td>\n</tr>\n<tr>\n  <th>C(Locn)[T.WA]</th>           <td>    0.5561</td> <td>    0.152</td> <td>    3.667</td> <td> 0.000</td> <td>    0.259</td> <td>    0.853</td>\n</tr>\n<tr>\n  <th>Magnitude</th>               <td>   -2.3461</td> <td>    0.021</td> <td> -110.126</td> <td> 0.000</td> <td>   -2.388</td> <td>   -2.304</td>\n</tr>\n<tr>\n  <th>Magnitude:C(Locn)[T.WA]</th> <td>   -0.5632</td> <td>    0.052</td> <td>  -10.895</td> <td> 0.000</td> <td>   -0.665</td> <td>   -0.462</td>\n</tr>\n</table>"
     },
     "metadata": {},
     "execution_count": 5
    }
   ],
   "source": [
    "\n",
    "poisson_model = smf.glm(formula='Freq ~ Magnitude * C(Locn)', data=df, family=sm.families.Poisson()).fit()\n",
    "poisson_model.summary()"
   ]
  },
  {
   "source": [
    "Degree of freedom is very close to deviance of residuals. This means that poisson model is appropriate. "
   ],
   "cell_type": "markdown",
   "metadata": {}
  },
  {
   "cell_type": "code",
   "execution_count": 6,
   "metadata": {},
   "outputs": [
    {
     "output_type": "stream",
     "name": "stdout",
     "text": [
      "0   -90.816905\n1   -90.017116\nName: Magnitude, dtype: float64\n0   -95.275183\n1   -93.709876\ndtype: float64\n"
     ]
    }
   ],
   "source": [
    "conf = poisson_model.conf_int()\n",
    "conf_SC = conf.iloc[2]\n",
    "conf_WA = conf.iloc[2] + conf.iloc[3]\n",
    "print((np.exp(conf_SC) -1) * 100)\n",
    "print((np.exp(conf_WA) -1) * 100)"
   ]
  },
  {
   "source": [
    "The average number of earth quakes in SC seems to decrease by around between 90% and 90.8% for every magnitude increase. At the same time, the average number of earth quakes in WA decreases by around 93% and 95%."
   ],
   "cell_type": "markdown",
   "metadata": {}
  }
 ]
}