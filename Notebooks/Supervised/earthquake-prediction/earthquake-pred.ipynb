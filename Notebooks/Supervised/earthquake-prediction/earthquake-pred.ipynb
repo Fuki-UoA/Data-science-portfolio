{
 "metadata": {
  "orig_nbformat": 2,
  "kernelspec": {
   "name": "python3",
   "display_name": "Python 3",
   "language": "python"
  }
 },
 "nbformat": 4,
 "nbformat_minor": 2,
 "cells": [
  {
   "source": [
    "# Problem\n",
    "It is said that the expected frequency of earthquakes decreases multiplicatively with their magnitude. The formula is $log_{10}N = a-bM$ where $N$ is the expected number of earthquakes of magnitude $M$. Since the response variable is count, Poisson regression will be used to tackle this problem.\n",
    "\n",
    "We can see that $E[Y|X] = e^{\\beta_0 + \\beta_1 x}$\n"
   ],
   "cell_type": "markdown",
   "metadata": {}
  },
  {
   "cell_type": "code",
   "execution_count": 56,
   "metadata": {},
   "outputs": [
    {
     "output_type": "stream",
     "name": "stdout",
     "text": [
      "{\n  \"shell_port\": 49669,\n  \"iopub_port\": 57285,\n  \"stdin_port\": 37231,\n  \"control_port\": 41921,\n  \"hb_port\": 58007,\n  \"ip\": \"127.0.0.1\",\n  \"key\": \"7129c927-07cfdd4ea808318828f498f6\",\n  \"transport\": \"tcp\",\n  \"signature_scheme\": \"hmac-sha256\",\n  \"kernel_name\": \"\"\n}\n\nPaste the above JSON into a file, and connect with:\n    $> jupyter <app> --existing <file>\nor, if you are local, you can connect with just:\n    $> jupyter <app> --existing kernel-3e766ef2-ab6a-4295-abac-040fc41add49.json\nor even just:\n    $> jupyter <app> --existing\nif this is the most recent Jupyter kernel you have started.\n"
     ]
    }
   ],
   "source": [
    "%connect_info"
   ]
  },
  {
   "cell_type": "code",
   "execution_count": 70,
   "metadata": {},
   "outputs": [],
   "source": [
    "import os\n",
    "import pandas as pd\n",
    "import numpy as np\n",
    "import matplotlib.pyplot as plt\n",
    "import statsmodels.api as sm\n",
    "import statsmodels.formula.api as smf\n",
    "import math"
   ]
  },
  {
   "cell_type": "code",
   "execution_count": 8,
   "metadata": {},
   "outputs": [],
   "source": [
    "def fetch_dataset():\n",
    "    return pd.read_csv(os.path.join('dataset', \n",
    "    'EarthquakeMagnitudes.txt'), delimiter=' ')"
   ]
  },
  {
   "cell_type": "code",
   "execution_count": 48,
   "metadata": {},
   "outputs": [
    {
     "output_type": "execute_result",
     "data": {
      "text/plain": [
       "  Locn  Magnitude  Freq\n",
       "0   SC       2.75  9471\n",
       "1   SC       3.25  2784\n",
       "2   SC       3.75   912\n",
       "3   SC       4.25   285\n",
       "4   SC       4.75    90"
      ],
      "text/html": "<div>\n<style scoped>\n    .dataframe tbody tr th:only-of-type {\n        vertical-align: middle;\n    }\n\n    .dataframe tbody tr th {\n        vertical-align: top;\n    }\n\n    .dataframe thead th {\n        text-align: right;\n    }\n</style>\n<table border=\"1\" class=\"dataframe\">\n  <thead>\n    <tr style=\"text-align: right;\">\n      <th></th>\n      <th>Locn</th>\n      <th>Magnitude</th>\n      <th>Freq</th>\n    </tr>\n  </thead>\n  <tbody>\n    <tr>\n      <th>0</th>\n      <td>SC</td>\n      <td>2.75</td>\n      <td>9471</td>\n    </tr>\n    <tr>\n      <th>1</th>\n      <td>SC</td>\n      <td>3.25</td>\n      <td>2784</td>\n    </tr>\n    <tr>\n      <th>2</th>\n      <td>SC</td>\n      <td>3.75</td>\n      <td>912</td>\n    </tr>\n    <tr>\n      <th>3</th>\n      <td>SC</td>\n      <td>4.25</td>\n      <td>285</td>\n    </tr>\n    <tr>\n      <th>4</th>\n      <td>SC</td>\n      <td>4.75</td>\n      <td>90</td>\n    </tr>\n  </tbody>\n</table>\n</div>"
     },
     "metadata": {},
     "execution_count": 48
    }
   ],
   "source": [
    "df = fetch_dataset()\n",
    "df.head()"
   ]
  },
  {
   "source": [
    "## Explanatory Analysis"
   ],
   "cell_type": "markdown",
   "metadata": {}
  },
  {
   "cell_type": "code",
   "execution_count": 52,
   "metadata": {},
   "outputs": [
    {
     "output_type": "display_data",
     "data": {
      "text/plain": "<Figure size 432x288 with 1 Axes>",
      "image/svg+xml": "<?xml version=\"1.0\" encoding=\"utf-8\" standalone=\"no\"?>\n<!DOCTYPE svg PUBLIC \"-//W3C//DTD SVG 1.1//EN\"\n  \"http://www.w3.org/Graphics/SVG/1.1/DTD/svg11.dtd\">\n<!-- Created with matplotlib (https://matplotlib.org/) -->\n<svg height=\"248.518125pt\" version=\"1.1\" viewBox=\"0 0 384.83125 248.518125\" width=\"384.83125pt\" xmlns=\"http://www.w3.org/2000/svg\" xmlns:xlink=\"http://www.w3.org/1999/xlink\">\n <metadata>\n  <rdf:RDF xmlns:cc=\"http://creativecommons.org/ns#\" xmlns:dc=\"http://purl.org/dc/elements/1.1/\" xmlns:rdf=\"http://www.w3.org/1999/02/22-rdf-syntax-ns#\">\n   <cc:Work>\n    <dc:type rdf:resource=\"http://purl.org/dc/dcmitype/StillImage\"/>\n    <dc:date>2021-05-13T16:12:20.106007</dc:date>\n    <dc:format>image/svg+xml</dc:format>\n    <dc:creator>\n     <cc:Agent>\n      <dc:title>Matplotlib v3.3.4, https://matplotlib.org/</dc:title>\n     </cc:Agent>\n    </dc:creator>\n   </cc:Work>\n  </rdf:RDF>\n </metadata>\n <defs>\n  <style type=\"text/css\">*{stroke-linecap:butt;stroke-linejoin:round;}</style>\n </defs>\n <g id=\"figure_1\">\n  <g id=\"patch_1\">\n   <path d=\"M -0 248.518125 \nL 384.83125 248.518125 \nL 384.83125 0 \nL -0 0 \nz\n\" style=\"fill:none;\"/>\n  </g>\n  <g id=\"axes_1\">\n   <g id=\"patch_2\">\n    <path d=\"M 39.65 224.64 \nL 374.45 224.64 \nL 374.45 7.2 \nL 39.65 7.2 \nz\n\" style=\"fill:#ffffff;\"/>\n   </g>\n   <g id=\"PathCollection_1\">\n    <defs>\n     <path d=\"M 0 3 \nC 0.795609 3 1.55874 2.683901 2.12132 2.12132 \nC 2.683901 1.55874 3 0.795609 3 -0 \nC 3 -0.795609 2.683901 -1.55874 2.12132 -2.12132 \nC 1.55874 -2.683901 0.795609 -3 0 -3 \nC -0.795609 -3 -1.55874 -2.683901 -2.12132 -2.12132 \nC -2.683901 -1.55874 -3 -0.795609 -3 0 \nC -3 0.795609 -2.683901 1.55874 -2.12132 2.12132 \nC -1.55874 2.683901 -0.795609 3 0 3 \nz\n\" id=\"C0_0_ebb493e7b1\"/>\n    </defs>\n    <g clip-path=\"url(#p4d2ca5a334)\">\n     <use style=\"fill:#0000ff;stroke:#0000ff;\" x=\"54.868182\" xlink:href=\"#C0_0_ebb493e7b1\" y=\"17.083636\"/>\n    </g>\n    <g clip-path=\"url(#p4d2ca5a334)\">\n     <use style=\"fill:#0000ff;stroke:#0000ff;\" x=\"85.304545\" xlink:href=\"#C0_0_ebb493e7b1\" y=\"156.650475\"/>\n    </g>\n    <g clip-path=\"url(#p4d2ca5a334)\">\n     <use style=\"fill:#0000ff;stroke:#0000ff;\" x=\"115.740909\" xlink:href=\"#C0_0_ebb493e7b1\" y=\"195.721676\"/>\n    </g>\n    <g clip-path=\"url(#p4d2ca5a334)\">\n     <use style=\"fill:#0000ff;stroke:#0000ff;\" x=\"146.177273\" xlink:href=\"#C0_0_ebb493e7b1\" y=\"208.808024\"/>\n    </g>\n    <g clip-path=\"url(#p4d2ca5a334)\">\n     <use style=\"fill:#0000ff;stroke:#0000ff;\" x=\"176.613636\" xlink:href=\"#C0_0_ebb493e7b1\" y=\"212.877941\"/>\n    </g>\n    <g clip-path=\"url(#p4d2ca5a334)\">\n     <use style=\"fill:#0000ff;stroke:#0000ff;\" x=\"207.05\" xlink:href=\"#C0_0_ebb493e7b1\" y=\"214.08848\"/>\n    </g>\n    <g clip-path=\"url(#p4d2ca5a334)\">\n     <use style=\"fill:#0000ff;stroke:#0000ff;\" x=\"237.486364\" xlink:href=\"#C0_0_ebb493e7b1\" y=\"214.54765\"/>\n    </g>\n    <g clip-path=\"url(#p4d2ca5a334)\">\n     <use style=\"fill:#0000ff;stroke:#0000ff;\" x=\"267.922727\" xlink:href=\"#C0_0_ebb493e7b1\" y=\"214.69375\"/>\n    </g>\n    <g clip-path=\"url(#p4d2ca5a334)\">\n     <use style=\"fill:#0000ff;stroke:#0000ff;\" x=\"298.359091\" xlink:href=\"#C0_0_ebb493e7b1\" y=\"214.714621\"/>\n    </g>\n    <g clip-path=\"url(#p4d2ca5a334)\">\n     <use style=\"fill:#0000ff;stroke:#0000ff;\" x=\"328.795455\" xlink:href=\"#C0_0_ebb493e7b1\" y=\"214.735492\"/>\n    </g>\n    <g clip-path=\"url(#p4d2ca5a334)\">\n     <use style=\"fill:#0000ff;stroke:#0000ff;\" x=\"359.231818\" xlink:href=\"#C0_0_ebb493e7b1\" y=\"214.756364\"/>\n    </g>\n    <g clip-path=\"url(#p4d2ca5a334)\">\n     <use style=\"fill:#ff0000;stroke:#ff0000;\" x=\"54.868182\" xlink:href=\"#C0_0_ebb493e7b1\" y=\"141.998774\"/>\n    </g>\n    <g clip-path=\"url(#p4d2ca5a334)\">\n     <use style=\"fill:#ff0000;stroke:#ff0000;\" x=\"85.304545\" xlink:href=\"#C0_0_ebb493e7b1\" y=\"198.038398\"/>\n    </g>\n    <g clip-path=\"url(#p4d2ca5a334)\">\n     <use style=\"fill:#ff0000;stroke:#ff0000;\" x=\"115.740909\" xlink:href=\"#C0_0_ebb493e7b1\" y=\"210.790804\"/>\n    </g>\n    <g clip-path=\"url(#p4d2ca5a334)\">\n     <use style=\"fill:#ff0000;stroke:#ff0000;\" x=\"146.177273\" xlink:href=\"#C0_0_ebb493e7b1\" y=\"213.754538\"/>\n    </g>\n    <g clip-path=\"url(#p4d2ca5a334)\">\n     <use style=\"fill:#ff0000;stroke:#ff0000;\" x=\"176.613636\" xlink:href=\"#C0_0_ebb493e7b1\" y=\"214.610264\"/>\n    </g>\n    <g clip-path=\"url(#p4d2ca5a334)\">\n     <use style=\"fill:#ff0000;stroke:#ff0000;\" x=\"207.05\" xlink:href=\"#C0_0_ebb493e7b1\" y=\"214.69375\"/>\n    </g>\n    <g clip-path=\"url(#p4d2ca5a334)\">\n     <use style=\"fill:#ff0000;stroke:#ff0000;\" x=\"237.486364\" xlink:href=\"#C0_0_ebb493e7b1\" y=\"214.735492\"/>\n    </g>\n    <g clip-path=\"url(#p4d2ca5a334)\">\n     <use style=\"fill:#ff0000;stroke:#ff0000;\" x=\"267.922727\" xlink:href=\"#C0_0_ebb493e7b1\" y=\"214.756364\"/>\n    </g>\n    <g clip-path=\"url(#p4d2ca5a334)\">\n     <use style=\"fill:#ff0000;stroke:#ff0000;\" x=\"298.359091\" xlink:href=\"#C0_0_ebb493e7b1\" y=\"214.735492\"/>\n    </g>\n    <g clip-path=\"url(#p4d2ca5a334)\">\n     <use style=\"fill:#ff0000;stroke:#ff0000;\" x=\"328.795455\" xlink:href=\"#C0_0_ebb493e7b1\" y=\"214.756364\"/>\n    </g>\n    <g clip-path=\"url(#p4d2ca5a334)\">\n     <use style=\"fill:#ff0000;stroke:#ff0000;\" x=\"359.231818\" xlink:href=\"#C0_0_ebb493e7b1\" y=\"214.756364\"/>\n    </g>\n   </g>\n   <g id=\"matplotlib.axis_1\">\n    <g id=\"xtick_1\">\n     <g id=\"line2d_1\">\n      <defs>\n       <path d=\"M 0 0 \nL 0 3.5 \n\" id=\"md630240fd2\" style=\"stroke:#000000;stroke-width:0.8;\"/>\n      </defs>\n      <g>\n       <use style=\"stroke:#000000;stroke-width:0.8;\" x=\"70.086364\" xlink:href=\"#md630240fd2\" y=\"224.64\"/>\n      </g>\n     </g>\n     <g id=\"text_1\">\n      <!-- 3 -->\n      <g transform=\"translate(66.905114 239.238437)scale(0.1 -0.1)\">\n       <defs>\n        <path d=\"M 40.578125 39.3125 \nQ 47.65625 37.796875 51.625 33 \nQ 55.609375 28.21875 55.609375 21.1875 \nQ 55.609375 10.40625 48.1875 4.484375 \nQ 40.765625 -1.421875 27.09375 -1.421875 \nQ 22.515625 -1.421875 17.65625 -0.515625 \nQ 12.796875 0.390625 7.625 2.203125 \nL 7.625 11.71875 \nQ 11.71875 9.328125 16.59375 8.109375 \nQ 21.484375 6.890625 26.8125 6.890625 \nQ 36.078125 6.890625 40.9375 10.546875 \nQ 45.796875 14.203125 45.796875 21.1875 \nQ 45.796875 27.640625 41.28125 31.265625 \nQ 36.765625 34.90625 28.71875 34.90625 \nL 20.21875 34.90625 \nL 20.21875 43.015625 \nL 29.109375 43.015625 \nQ 36.375 43.015625 40.234375 45.921875 \nQ 44.09375 48.828125 44.09375 54.296875 \nQ 44.09375 59.90625 40.109375 62.90625 \nQ 36.140625 65.921875 28.71875 65.921875 \nQ 24.65625 65.921875 20.015625 65.03125 \nQ 15.375 64.15625 9.8125 62.3125 \nL 9.8125 71.09375 \nQ 15.4375 72.65625 20.34375 73.4375 \nQ 25.25 74.21875 29.59375 74.21875 \nQ 40.828125 74.21875 47.359375 69.109375 \nQ 53.90625 64.015625 53.90625 55.328125 \nQ 53.90625 49.265625 50.4375 45.09375 \nQ 46.96875 40.921875 40.578125 39.3125 \nz\n\" id=\"DejaVuSans-51\"/>\n       </defs>\n       <use xlink:href=\"#DejaVuSans-51\"/>\n      </g>\n     </g>\n    </g>\n    <g id=\"xtick_2\">\n     <g id=\"line2d_2\">\n      <g>\n       <use style=\"stroke:#000000;stroke-width:0.8;\" x=\"130.959091\" xlink:href=\"#md630240fd2\" y=\"224.64\"/>\n      </g>\n     </g>\n     <g id=\"text_2\">\n      <!-- 4 -->\n      <g transform=\"translate(127.777841 239.238437)scale(0.1 -0.1)\">\n       <defs>\n        <path d=\"M 37.796875 64.3125 \nL 12.890625 25.390625 \nL 37.796875 25.390625 \nz\nM 35.203125 72.90625 \nL 47.609375 72.90625 \nL 47.609375 25.390625 \nL 58.015625 25.390625 \nL 58.015625 17.1875 \nL 47.609375 17.1875 \nL 47.609375 0 \nL 37.796875 0 \nL 37.796875 17.1875 \nL 4.890625 17.1875 \nL 4.890625 26.703125 \nz\n\" id=\"DejaVuSans-52\"/>\n       </defs>\n       <use xlink:href=\"#DejaVuSans-52\"/>\n      </g>\n     </g>\n    </g>\n    <g id=\"xtick_3\">\n     <g id=\"line2d_3\">\n      <g>\n       <use style=\"stroke:#000000;stroke-width:0.8;\" x=\"191.831818\" xlink:href=\"#md630240fd2\" y=\"224.64\"/>\n      </g>\n     </g>\n     <g id=\"text_3\">\n      <!-- 5 -->\n      <g transform=\"translate(188.650568 239.238437)scale(0.1 -0.1)\">\n       <defs>\n        <path d=\"M 10.796875 72.90625 \nL 49.515625 72.90625 \nL 49.515625 64.59375 \nL 19.828125 64.59375 \nL 19.828125 46.734375 \nQ 21.96875 47.46875 24.109375 47.828125 \nQ 26.265625 48.1875 28.421875 48.1875 \nQ 40.625 48.1875 47.75 41.5 \nQ 54.890625 34.8125 54.890625 23.390625 \nQ 54.890625 11.625 47.5625 5.09375 \nQ 40.234375 -1.421875 26.90625 -1.421875 \nQ 22.3125 -1.421875 17.546875 -0.640625 \nQ 12.796875 0.140625 7.71875 1.703125 \nL 7.71875 11.625 \nQ 12.109375 9.234375 16.796875 8.0625 \nQ 21.484375 6.890625 26.703125 6.890625 \nQ 35.15625 6.890625 40.078125 11.328125 \nQ 45.015625 15.765625 45.015625 23.390625 \nQ 45.015625 31 40.078125 35.4375 \nQ 35.15625 39.890625 26.703125 39.890625 \nQ 22.75 39.890625 18.8125 39.015625 \nQ 14.890625 38.140625 10.796875 36.28125 \nz\n\" id=\"DejaVuSans-53\"/>\n       </defs>\n       <use xlink:href=\"#DejaVuSans-53\"/>\n      </g>\n     </g>\n    </g>\n    <g id=\"xtick_4\">\n     <g id=\"line2d_4\">\n      <g>\n       <use style=\"stroke:#000000;stroke-width:0.8;\" x=\"252.704545\" xlink:href=\"#md630240fd2\" y=\"224.64\"/>\n      </g>\n     </g>\n     <g id=\"text_4\">\n      <!-- 6 -->\n      <g transform=\"translate(249.523295 239.238437)scale(0.1 -0.1)\">\n       <defs>\n        <path d=\"M 33.015625 40.375 \nQ 26.375 40.375 22.484375 35.828125 \nQ 18.609375 31.296875 18.609375 23.390625 \nQ 18.609375 15.53125 22.484375 10.953125 \nQ 26.375 6.390625 33.015625 6.390625 \nQ 39.65625 6.390625 43.53125 10.953125 \nQ 47.40625 15.53125 47.40625 23.390625 \nQ 47.40625 31.296875 43.53125 35.828125 \nQ 39.65625 40.375 33.015625 40.375 \nz\nM 52.59375 71.296875 \nL 52.59375 62.3125 \nQ 48.875 64.0625 45.09375 64.984375 \nQ 41.3125 65.921875 37.59375 65.921875 \nQ 27.828125 65.921875 22.671875 59.328125 \nQ 17.53125 52.734375 16.796875 39.40625 \nQ 19.671875 43.65625 24.015625 45.921875 \nQ 28.375 48.1875 33.59375 48.1875 \nQ 44.578125 48.1875 50.953125 41.515625 \nQ 57.328125 34.859375 57.328125 23.390625 \nQ 57.328125 12.15625 50.6875 5.359375 \nQ 44.046875 -1.421875 33.015625 -1.421875 \nQ 20.359375 -1.421875 13.671875 8.265625 \nQ 6.984375 17.96875 6.984375 36.375 \nQ 6.984375 53.65625 15.1875 63.9375 \nQ 23.390625 74.21875 37.203125 74.21875 \nQ 40.921875 74.21875 44.703125 73.484375 \nQ 48.484375 72.75 52.59375 71.296875 \nz\n\" id=\"DejaVuSans-54\"/>\n       </defs>\n       <use xlink:href=\"#DejaVuSans-54\"/>\n      </g>\n     </g>\n    </g>\n    <g id=\"xtick_5\">\n     <g id=\"line2d_5\">\n      <g>\n       <use style=\"stroke:#000000;stroke-width:0.8;\" x=\"313.577273\" xlink:href=\"#md630240fd2\" y=\"224.64\"/>\n      </g>\n     </g>\n     <g id=\"text_5\">\n      <!-- 7 -->\n      <g transform=\"translate(310.396023 239.238437)scale(0.1 -0.1)\">\n       <defs>\n        <path d=\"M 8.203125 72.90625 \nL 55.078125 72.90625 \nL 55.078125 68.703125 \nL 28.609375 0 \nL 18.3125 0 \nL 43.21875 64.59375 \nL 8.203125 64.59375 \nz\n\" id=\"DejaVuSans-55\"/>\n       </defs>\n       <use xlink:href=\"#DejaVuSans-55\"/>\n      </g>\n     </g>\n    </g>\n    <g id=\"xtick_6\">\n     <g id=\"line2d_6\">\n      <g>\n       <use style=\"stroke:#000000;stroke-width:0.8;\" x=\"374.45\" xlink:href=\"#md630240fd2\" y=\"224.64\"/>\n      </g>\n     </g>\n     <g id=\"text_6\">\n      <!-- 8 -->\n      <g transform=\"translate(371.26875 239.238437)scale(0.1 -0.1)\">\n       <defs>\n        <path d=\"M 31.78125 34.625 \nQ 24.75 34.625 20.71875 30.859375 \nQ 16.703125 27.09375 16.703125 20.515625 \nQ 16.703125 13.921875 20.71875 10.15625 \nQ 24.75 6.390625 31.78125 6.390625 \nQ 38.8125 6.390625 42.859375 10.171875 \nQ 46.921875 13.96875 46.921875 20.515625 \nQ 46.921875 27.09375 42.890625 30.859375 \nQ 38.875 34.625 31.78125 34.625 \nz\nM 21.921875 38.8125 \nQ 15.578125 40.375 12.03125 44.71875 \nQ 8.5 49.078125 8.5 55.328125 \nQ 8.5 64.0625 14.71875 69.140625 \nQ 20.953125 74.21875 31.78125 74.21875 \nQ 42.671875 74.21875 48.875 69.140625 \nQ 55.078125 64.0625 55.078125 55.328125 \nQ 55.078125 49.078125 51.53125 44.71875 \nQ 48 40.375 41.703125 38.8125 \nQ 48.828125 37.15625 52.796875 32.3125 \nQ 56.78125 27.484375 56.78125 20.515625 \nQ 56.78125 9.90625 50.3125 4.234375 \nQ 43.84375 -1.421875 31.78125 -1.421875 \nQ 19.734375 -1.421875 13.25 4.234375 \nQ 6.78125 9.90625 6.78125 20.515625 \nQ 6.78125 27.484375 10.78125 32.3125 \nQ 14.796875 37.15625 21.921875 38.8125 \nz\nM 18.3125 54.390625 \nQ 18.3125 48.734375 21.84375 45.5625 \nQ 25.390625 42.390625 31.78125 42.390625 \nQ 38.140625 42.390625 41.71875 45.5625 \nQ 45.3125 48.734375 45.3125 54.390625 \nQ 45.3125 60.0625 41.71875 63.234375 \nQ 38.140625 66.40625 31.78125 66.40625 \nQ 25.390625 66.40625 21.84375 63.234375 \nQ 18.3125 60.0625 18.3125 54.390625 \nz\n\" id=\"DejaVuSans-56\"/>\n       </defs>\n       <use xlink:href=\"#DejaVuSans-56\"/>\n      </g>\n     </g>\n    </g>\n   </g>\n   <g id=\"matplotlib.axis_2\">\n    <g id=\"ytick_1\">\n     <g id=\"line2d_7\">\n      <defs>\n       <path d=\"M 0 0 \nL -3.5 0 \n\" id=\"m4f9447a921\" style=\"stroke:#000000;stroke-width:0.8;\"/>\n      </defs>\n      <g>\n       <use style=\"stroke:#000000;stroke-width:0.8;\" x=\"39.65\" xlink:href=\"#m4f9447a921\" y=\"214.756364\"/>\n      </g>\n     </g>\n     <g id=\"text_7\">\n      <!-- 0 -->\n      <g transform=\"translate(26.2875 218.555582)scale(0.1 -0.1)\">\n       <defs>\n        <path d=\"M 31.78125 66.40625 \nQ 24.171875 66.40625 20.328125 58.90625 \nQ 16.5 51.421875 16.5 36.375 \nQ 16.5 21.390625 20.328125 13.890625 \nQ 24.171875 6.390625 31.78125 6.390625 \nQ 39.453125 6.390625 43.28125 13.890625 \nQ 47.125 21.390625 47.125 36.375 \nQ 47.125 51.421875 43.28125 58.90625 \nQ 39.453125 66.40625 31.78125 66.40625 \nz\nM 31.78125 74.21875 \nQ 44.046875 74.21875 50.515625 64.515625 \nQ 56.984375 54.828125 56.984375 36.375 \nQ 56.984375 17.96875 50.515625 8.265625 \nQ 44.046875 -1.421875 31.78125 -1.421875 \nQ 19.53125 -1.421875 13.0625 8.265625 \nQ 6.59375 17.96875 6.59375 36.375 \nQ 6.59375 54.828125 13.0625 64.515625 \nQ 19.53125 74.21875 31.78125 74.21875 \nz\n\" id=\"DejaVuSans-48\"/>\n       </defs>\n       <use xlink:href=\"#DejaVuSans-48\"/>\n      </g>\n     </g>\n    </g>\n    <g id=\"ytick_2\">\n     <g id=\"line2d_8\">\n      <g>\n       <use style=\"stroke:#000000;stroke-width:0.8;\" x=\"39.65\" xlink:href=\"#m4f9447a921\" y=\"173.013627\"/>\n      </g>\n     </g>\n     <g id=\"text_8\">\n      <!-- 2000 -->\n      <g transform=\"translate(7.2 176.812846)scale(0.1 -0.1)\">\n       <defs>\n        <path d=\"M 19.1875 8.296875 \nL 53.609375 8.296875 \nL 53.609375 0 \nL 7.328125 0 \nL 7.328125 8.296875 \nQ 12.9375 14.109375 22.625 23.890625 \nQ 32.328125 33.6875 34.8125 36.53125 \nQ 39.546875 41.84375 41.421875 45.53125 \nQ 43.3125 49.21875 43.3125 52.78125 \nQ 43.3125 58.59375 39.234375 62.25 \nQ 35.15625 65.921875 28.609375 65.921875 \nQ 23.96875 65.921875 18.8125 64.3125 \nQ 13.671875 62.703125 7.8125 59.421875 \nL 7.8125 69.390625 \nQ 13.765625 71.78125 18.9375 73 \nQ 24.125 74.21875 28.421875 74.21875 \nQ 39.75 74.21875 46.484375 68.546875 \nQ 53.21875 62.890625 53.21875 53.421875 \nQ 53.21875 48.921875 51.53125 44.890625 \nQ 49.859375 40.875 45.40625 35.40625 \nQ 44.1875 33.984375 37.640625 27.21875 \nQ 31.109375 20.453125 19.1875 8.296875 \nz\n\" id=\"DejaVuSans-50\"/>\n       </defs>\n       <use xlink:href=\"#DejaVuSans-50\"/>\n       <use x=\"63.623047\" xlink:href=\"#DejaVuSans-48\"/>\n       <use x=\"127.246094\" xlink:href=\"#DejaVuSans-48\"/>\n       <use x=\"190.869141\" xlink:href=\"#DejaVuSans-48\"/>\n      </g>\n     </g>\n    </g>\n    <g id=\"ytick_3\">\n     <g id=\"line2d_9\">\n      <g>\n       <use style=\"stroke:#000000;stroke-width:0.8;\" x=\"39.65\" xlink:href=\"#m4f9447a921\" y=\"131.270891\"/>\n      </g>\n     </g>\n     <g id=\"text_9\">\n      <!-- 4000 -->\n      <g transform=\"translate(7.2 135.07011)scale(0.1 -0.1)\">\n       <use xlink:href=\"#DejaVuSans-52\"/>\n       <use x=\"63.623047\" xlink:href=\"#DejaVuSans-48\"/>\n       <use x=\"127.246094\" xlink:href=\"#DejaVuSans-48\"/>\n       <use x=\"190.869141\" xlink:href=\"#DejaVuSans-48\"/>\n      </g>\n     </g>\n    </g>\n    <g id=\"ytick_4\">\n     <g id=\"line2d_10\">\n      <g>\n       <use style=\"stroke:#000000;stroke-width:0.8;\" x=\"39.65\" xlink:href=\"#m4f9447a921\" y=\"89.528155\"/>\n      </g>\n     </g>\n     <g id=\"text_10\">\n      <!-- 6000 -->\n      <g transform=\"translate(7.2 93.327374)scale(0.1 -0.1)\">\n       <use xlink:href=\"#DejaVuSans-54\"/>\n       <use x=\"63.623047\" xlink:href=\"#DejaVuSans-48\"/>\n       <use x=\"127.246094\" xlink:href=\"#DejaVuSans-48\"/>\n       <use x=\"190.869141\" xlink:href=\"#DejaVuSans-48\"/>\n      </g>\n     </g>\n    </g>\n    <g id=\"ytick_5\">\n     <g id=\"line2d_11\">\n      <g>\n       <use style=\"stroke:#000000;stroke-width:0.8;\" x=\"39.65\" xlink:href=\"#m4f9447a921\" y=\"47.785419\"/>\n      </g>\n     </g>\n     <g id=\"text_11\">\n      <!-- 8000 -->\n      <g transform=\"translate(7.2 51.584638)scale(0.1 -0.1)\">\n       <use xlink:href=\"#DejaVuSans-56\"/>\n       <use x=\"63.623047\" xlink:href=\"#DejaVuSans-48\"/>\n       <use x=\"127.246094\" xlink:href=\"#DejaVuSans-48\"/>\n       <use x=\"190.869141\" xlink:href=\"#DejaVuSans-48\"/>\n      </g>\n     </g>\n    </g>\n   </g>\n   <g id=\"patch_3\">\n    <path d=\"M 39.65 224.64 \nL 39.65 7.2 \n\" style=\"fill:none;stroke:#000000;stroke-linecap:square;stroke-linejoin:miter;stroke-width:0.8;\"/>\n   </g>\n   <g id=\"patch_4\">\n    <path d=\"M 374.45 224.64 \nL 374.45 7.2 \n\" style=\"fill:none;stroke:#000000;stroke-linecap:square;stroke-linejoin:miter;stroke-width:0.8;\"/>\n   </g>\n   <g id=\"patch_5\">\n    <path d=\"M 39.65 224.64 \nL 374.45 224.64 \n\" style=\"fill:none;stroke:#000000;stroke-linecap:square;stroke-linejoin:miter;stroke-width:0.8;\"/>\n   </g>\n   <g id=\"patch_6\">\n    <path d=\"M 39.65 7.2 \nL 374.45 7.2 \n\" style=\"fill:none;stroke:#000000;stroke-linecap:square;stroke-linejoin:miter;stroke-width:0.8;\"/>\n   </g>\n  </g>\n </g>\n <defs>\n  <clipPath id=\"p4d2ca5a334\">\n   <rect height=\"217.44\" width=\"334.8\" x=\"39.65\" y=\"7.2\"/>\n  </clipPath>\n </defs>\n</svg>\n",
      "image/png": "[encoded data removed]"
     },
     "metadata": {
      "needs_background": "light"
     }
    }
   ],
   "source": [
    "# Make sure X and y are of dataframe, not series\n",
    "X, y = df[['Magnitude', 'Locn']], df['Freq']\n",
    "# mapping colours to each category.\n",
    "colours = {'WA': 'red', 'SC': 'blue'}\n",
    "plt.scatter(X[['Magnitude']], y, c=np.array(df['Locn'].map(colours)))\n",
    "plt.show()"
   ]
  },
  {
   "source": [
    "The number of earthquakes seems to decrease multiplicatively. It seems to be higher at location SC compared to WA."
   ],
   "cell_type": "markdown",
   "metadata": {}
  },
  {
   "source": [
    "## Fit a descritive model"
   ],
   "cell_type": "markdown",
   "metadata": {}
  },
  {
   "cell_type": "code",
   "execution_count": 71,
   "metadata": {},
   "outputs": [
    {
     "output_type": "execute_result",
     "data": {
      "text/plain": [
       "<class 'statsmodels.iolib.summary.Summary'>\n",
       "\"\"\"\n",
       "                 Generalized Linear Model Regression Results                  \n",
       "==============================================================================\n",
       "Dep. Variable:                   Freq   No. Observations:                   22\n",
       "Model:                            GLM   Df Residuals:                       18\n",
       "Model Family:                 Poisson   Df Model:                            3\n",
       "Link Function:                    log   Scale:                          1.0000\n",
       "Method:                          IRLS   Log-Likelihood:                -60.207\n",
       "Date:                Thu, 13 May 2021   Deviance:                       17.980\n",
       "Time:                        16:30:11   Pearson chi2:                     44.9\n",
       "No. Iterations:                     9                                         \n",
       "Covariance Type:            nonrobust                                         \n",
       "===========================================================================================\n",
       "                              coef    std err          z      P>|z|      [0.025      0.975]\n",
       "-------------------------------------------------------------------------------------------\n",
       "Intercept                  15.5985      0.064    243.975      0.000      15.473      15.724\n",
       "C(Locn)[T.WA]               0.5561      0.152      3.667      0.000       0.259       0.853\n",
       "Magnitude                  -2.3461      0.021   -110.126      0.000      -2.388      -2.304\n",
       "Magnitude:C(Locn)[T.WA]    -0.5632      0.052    -10.895      0.000      -0.665      -0.462\n",
       "===========================================================================================\n",
       "\"\"\""
      ],
      "text/html": "<table class=\"simpletable\">\n<caption>Generalized Linear Model Regression Results</caption>\n<tr>\n  <th>Dep. Variable:</th>         <td>Freq</td>       <th>  No. Observations:  </th>  <td>    22</td> \n</tr>\n<tr>\n  <th>Model:</th>                  <td>GLM</td>       <th>  Df Residuals:      </th>  <td>    18</td> \n</tr>\n<tr>\n  <th>Model Family:</th>         <td>Poisson</td>     <th>  Df Model:          </th>  <td>     3</td> \n</tr>\n<tr>\n  <th>Link Function:</th>          <td>log</td>       <th>  Scale:             </th> <td>  1.0000</td>\n</tr>\n<tr>\n  <th>Method:</th>                <td>IRLS</td>       <th>  Log-Likelihood:    </th> <td> -60.207</td>\n</tr>\n<tr>\n  <th>Date:</th>            <td>Thu, 13 May 2021</td> <th>  Deviance:          </th> <td>  17.980</td>\n</tr>\n<tr>\n  <th>Time:</th>                <td>16:30:11</td>     <th>  Pearson chi2:      </th>  <td>  44.9</td> \n</tr>\n<tr>\n  <th>No. Iterations:</th>          <td>9</td>        <th>                     </th>     <td> </td>   \n</tr>\n<tr>\n  <th>Covariance Type:</th>     <td>nonrobust</td>    <th>                     </th>     <td> </td>   \n</tr>\n</table>\n<table class=\"simpletable\">\n<tr>\n             <td></td>                <th>coef</th>     <th>std err</th>      <th>z</th>      <th>P>|z|</th>  <th>[0.025</th>    <th>0.975]</th>  \n</tr>\n<tr>\n  <th>Intercept</th>               <td>   15.5985</td> <td>    0.064</td> <td>  243.975</td> <td> 0.000</td> <td>   15.473</td> <td>   15.724</td>\n</tr>\n<tr>\n  <th>C(Locn)[T.WA]</th>           <td>    0.5561</td> <td>    0.152</td> <td>    3.667</td> <td> 0.000</td> <td>    0.259</td> <td>    0.853</td>\n</tr>\n<tr>\n  <th>Magnitude</th>               <td>   -2.3461</td> <td>    0.021</td> <td> -110.126</td> <td> 0.000</td> <td>   -2.388</td> <td>   -2.304</td>\n</tr>\n<tr>\n  <th>Magnitude:C(Locn)[T.WA]</th> <td>   -0.5632</td> <td>    0.052</td> <td>  -10.895</td> <td> 0.000</td> <td>   -0.665</td> <td>   -0.462</td>\n</tr>\n</table>"
     },
     "metadata": {},
     "execution_count": 71
    }
   ],
   "source": [
    "\n",
    "poisson_model = smf.glm(formula='Freq ~ Magnitude * C(Locn)', data=df, family=sm.families.Poisson()).fit()\n",
    "poisson_model.summary()"
   ]
  },
  {
   "source": [
    "Degree of freedom is very close to deviance of residuals. This means that poisson model is appropriate. "
   ],
   "cell_type": "markdown",
   "metadata": {}
  },
  {
   "cell_type": "code",
   "execution_count": 151,
   "metadata": {},
   "outputs": [
    {
     "output_type": "stream",
     "name": "stdout",
     "text": [
      "0   -90.816905\n1   -90.017116\nName: Magnitude, dtype: float64\n0   -95.275183\n1   -93.709876\ndtype: float64\n"
     ]
    }
   ],
   "source": [
    "conf = poisson_model.conf_int()\n",
    "conf_SC = conf.iloc[2]\n",
    "conf_WA = conf.iloc[2] + conf.iloc[3]\n",
    "print((np.exp(conf_SC) -1) * 100)\n",
    "print((np.exp(conf_WA) -1) * 100)"
   ]
  },
  {
   "source": [
    "The average number of earth quakes in SC seems to decrease by around between 90% and 90.8% for every magnitude increase. At the same time, the average number of earth quakes in WA decreases by around 93% and 95%."
   ],
   "cell_type": "markdown",
   "metadata": {}
  }
 ]
}