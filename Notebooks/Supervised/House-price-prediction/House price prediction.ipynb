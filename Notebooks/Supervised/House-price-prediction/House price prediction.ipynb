{
 "cells": [
  {
   "cell_type": "code",
   "execution_count": 5,
   "id": "overhead-greece",
   "metadata": {},
   "outputs": [],
   "source": [
    "import os\n",
    "import pandas as pd\n",
    "from zipfile import ZipFile\n",
    "\n",
    "DOWNLOAD_ROOT = 'datasets'\n",
    "def fetch_data(path=DOWNLOAD_ROOT):\n",
    "    os.makedirs(path, exist_ok=True)\n",
    "    os.system('kaggle competitions download -c house-prices-advanced-regression-techniques -p ' + path)\n",
    "    zip_path = os.path.join(path, 'house-prices-advanced-regression-techniques.zip')\n",
    "    with ZipFile(zip_path, 'r') as zip:\n",
    "        zip.extractall(path=path)\n",
    "        print('successfully fetched datasets at ' + os.path.abspath(path))\n",
    "        \n",
    "def load_trainset_testset(path=DOWNLOAD_ROOT):\n",
    "    train_path = os.path.join(path, 'train.csv')\n",
    "    test_path = os.path.join(path, 'test.csv')\n",
    "    \n",
    "    return pd.read_csv(train_path), pd.read_csv(test_path)"
   ]
  },
  {
   "cell_type": "code",
   "execution_count": 7,
   "id": "boxed-banana",
   "metadata": {},
   "outputs": [
    {
     "name": "stdout",
     "output_type": "stream",
     "text": [
      "successfully fetched datasets at C:\\Users\\fbab9\\OneDrive\\Documents\\Personal Project\\Data-science-portfolio\\Notebooks\\Supervised\\House-price-prediction\\datasets\n"
     ]
    },
    {
     "data": {
      "text/plain": [
       "(        Id  MSSubClass MSZoning  LotFrontage  LotArea Street Alley LotShape  \\\n",
       " 0        1          60       RL         65.0     8450   Pave   NaN      Reg   \n",
       " 1        2          20       RL         80.0     9600   Pave   NaN      Reg   \n",
       " 2        3          60       RL         68.0    11250   Pave   NaN      IR1   \n",
       " 3        4          70       RL         60.0     9550   Pave   NaN      IR1   \n",
       " 4        5          60       RL         84.0    14260   Pave   NaN      IR1   \n",
       " ...    ...         ...      ...          ...      ...    ...   ...      ...   \n",
       " 1455  1456          60       RL         62.0     7917   Pave   NaN      Reg   \n",
       " 1456  1457          20       RL         85.0    13175   Pave   NaN      Reg   \n",
       " 1457  1458          70       RL         66.0     9042   Pave   NaN      Reg   \n",
       " 1458  1459          20       RL         68.0     9717   Pave   NaN      Reg   \n",
       " 1459  1460          20       RL         75.0     9937   Pave   NaN      Reg   \n",
       " \n",
       "      LandContour Utilities  ... PoolArea PoolQC  Fence MiscFeature MiscVal  \\\n",
       " 0            Lvl    AllPub  ...        0    NaN    NaN         NaN       0   \n",
       " 1            Lvl    AllPub  ...        0    NaN    NaN         NaN       0   \n",
       " 2            Lvl    AllPub  ...        0    NaN    NaN         NaN       0   \n",
       " 3            Lvl    AllPub  ...        0    NaN    NaN         NaN       0   \n",
       " 4            Lvl    AllPub  ...        0    NaN    NaN         NaN       0   \n",
       " ...          ...       ...  ...      ...    ...    ...         ...     ...   \n",
       " 1455         Lvl    AllPub  ...        0    NaN    NaN         NaN       0   \n",
       " 1456         Lvl    AllPub  ...        0    NaN  MnPrv         NaN       0   \n",
       " 1457         Lvl    AllPub  ...        0    NaN  GdPrv        Shed    2500   \n",
       " 1458         Lvl    AllPub  ...        0    NaN    NaN         NaN       0   \n",
       " 1459         Lvl    AllPub  ...        0    NaN    NaN         NaN       0   \n",
       " \n",
       "      MoSold YrSold  SaleType  SaleCondition  SalePrice  \n",
       " 0         2   2008        WD         Normal     208500  \n",
       " 1         5   2007        WD         Normal     181500  \n",
       " 2         9   2008        WD         Normal     223500  \n",
       " 3         2   2006        WD        Abnorml     140000  \n",
       " 4        12   2008        WD         Normal     250000  \n",
       " ...     ...    ...       ...            ...        ...  \n",
       " 1455      8   2007        WD         Normal     175000  \n",
       " 1456      2   2010        WD         Normal     210000  \n",
       " 1457      5   2010        WD         Normal     266500  \n",
       " 1458      4   2010        WD         Normal     142125  \n",
       " 1459      6   2008        WD         Normal     147500  \n",
       " \n",
       " [1460 rows x 81 columns],\n",
       "         Id  MSSubClass MSZoning  LotFrontage  LotArea Street Alley LotShape  \\\n",
       " 0     1461          20       RH         80.0    11622   Pave   NaN      Reg   \n",
       " 1     1462          20       RL         81.0    14267   Pave   NaN      IR1   \n",
       " 2     1463          60       RL         74.0    13830   Pave   NaN      IR1   \n",
       " 3     1464          60       RL         78.0     9978   Pave   NaN      IR1   \n",
       " 4     1465         120       RL         43.0     5005   Pave   NaN      IR1   \n",
       " ...    ...         ...      ...          ...      ...    ...   ...      ...   \n",
       " 1454  2915         160       RM         21.0     1936   Pave   NaN      Reg   \n",
       " 1455  2916         160       RM         21.0     1894   Pave   NaN      Reg   \n",
       " 1456  2917          20       RL        160.0    20000   Pave   NaN      Reg   \n",
       " 1457  2918          85       RL         62.0    10441   Pave   NaN      Reg   \n",
       " 1458  2919          60       RL         74.0     9627   Pave   NaN      Reg   \n",
       " \n",
       "      LandContour Utilities  ... ScreenPorch PoolArea PoolQC  Fence  \\\n",
       " 0            Lvl    AllPub  ...         120        0    NaN  MnPrv   \n",
       " 1            Lvl    AllPub  ...           0        0    NaN    NaN   \n",
       " 2            Lvl    AllPub  ...           0        0    NaN  MnPrv   \n",
       " 3            Lvl    AllPub  ...           0        0    NaN    NaN   \n",
       " 4            HLS    AllPub  ...         144        0    NaN    NaN   \n",
       " ...          ...       ...  ...         ...      ...    ...    ...   \n",
       " 1454         Lvl    AllPub  ...           0        0    NaN    NaN   \n",
       " 1455         Lvl    AllPub  ...           0        0    NaN    NaN   \n",
       " 1456         Lvl    AllPub  ...           0        0    NaN    NaN   \n",
       " 1457         Lvl    AllPub  ...           0        0    NaN  MnPrv   \n",
       " 1458         Lvl    AllPub  ...           0        0    NaN    NaN   \n",
       " \n",
       "      MiscFeature MiscVal MoSold  YrSold  SaleType  SaleCondition  \n",
       " 0            NaN       0      6    2010        WD         Normal  \n",
       " 1           Gar2   12500      6    2010        WD         Normal  \n",
       " 2            NaN       0      3    2010        WD         Normal  \n",
       " 3            NaN       0      6    2010        WD         Normal  \n",
       " 4            NaN       0      1    2010        WD         Normal  \n",
       " ...          ...     ...    ...     ...       ...            ...  \n",
       " 1454         NaN       0      6    2006        WD         Normal  \n",
       " 1455         NaN       0      4    2006        WD        Abnorml  \n",
       " 1456         NaN       0      9    2006        WD        Abnorml  \n",
       " 1457        Shed     700      7    2006        WD         Normal  \n",
       " 1458         NaN       0     11    2006        WD         Normal  \n",
       " \n",
       " [1459 rows x 80 columns])"
      ]
     },
     "execution_count": 7,
     "metadata": {},
     "output_type": "execute_result"
    }
   ],
   "source": [
    "fetch_data()\n",
    "load_trainset_testset()"
   ]
  },
  {
   "cell_type": "code",
   "execution_count": null,
   "id": "ancient-laundry",
   "metadata": {},
   "outputs": [],
   "source": []
  }
 ],
 "metadata": {
  "kernelspec": {
   "display_name": "Python 3",
   "language": "python",
   "name": "python3"
  },
  "language_info": {
   "codemirror_mode": {
    "name": "ipython",
    "version": 3
   },
   "file_extension": ".py",
   "mimetype": "text/x-python",
   "name": "python",
   "nbconvert_exporter": "python",
   "pygments_lexer": "ipython3",
   "version": "3.8.7"
  }
 },
 "nbformat": 4,
 "nbformat_minor": 5
}
